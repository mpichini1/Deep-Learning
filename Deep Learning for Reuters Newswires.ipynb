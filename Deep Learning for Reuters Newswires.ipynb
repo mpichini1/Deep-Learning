{
 "cells": [
  {
   "cell_type": "markdown",
   "metadata": {},
   "source": [
    "# Excersice 2\n",
    "\n",
    "### Multiclass, Multilabel classification problem.\n",
    "\n",
    "\n",
    "### Reuters datasets, Keras."
   ]
  },
  {
   "cell_type": "code",
   "execution_count": 1,
   "metadata": {},
   "outputs": [],
   "source": [
    "from keras.datasets import reuters\n",
    "import numpy as np"
   ]
  },
  {
   "cell_type": "markdown",
   "metadata": {},
   "source": [
    "### Introduction\n",
    "\n",
    "The exercise was taken from the book Deep Learning With Python, written by Francois Chollet. \n",
    "\n",
    "This is a multi-class classification problem, learning how to classify the probability distribution of each newswire for each class.\n",
    "\n",
    "##### Dataset Details:\n",
    "    1) 17,964 Reuters Newswire\n",
    "    2) Split in 8,982 reviews for training and 8,982 reviews for testing;\n",
    "    3) the labels are 46\n",
    "    \n",
    "##### We are going to create new variables where:\n",
    "    \n",
    "    1) train_data and train_labels will be used to train the model;\n",
    "    2) test_data test_lables will be used to test how good is the model in classify un-known attributes;\n",
    "    3) train_data and test_data are a list of reviews, each review is a list of word indices;\n",
    "    4) train_labels and test_labels are list of 46 different values ranging between 0 and 46.\n",
    "    "
   ]
  },
  {
   "cell_type": "code",
   "execution_count": 2,
   "metadata": {},
   "outputs": [],
   "source": [
    "# splitting the Reutersdataset in Training test e and test set.\n",
    "# num_words == we will keep only the most 10,000 used words, discarding rare words to decrease the vectors' size.\n",
    "\n",
    "(train_data, train_labels), (test_data, test_labels) = reuters.load_data(num_words=10000)"
   ]
  },
  {
   "cell_type": "code",
   "execution_count": 3,
   "metadata": {},
   "outputs": [
    {
     "name": "stdout",
     "output_type": "stream",
     "text": [
      "[list([1, 2, 2, 8, 43, 10, 447, 5, 25, 207, 270, 5, 3095, 111, 16, 369, 186, 90, 67, 7, 89, 5, 19, 102, 6, 19, 124, 15, 90, 67, 84, 22, 482, 26, 7, 48, 4, 49, 8, 864, 39, 209, 154, 6, 151, 6, 83, 11, 15, 22, 155, 11, 15, 7, 48, 9, 4579, 1005, 504, 6, 258, 6, 272, 11, 15, 22, 134, 44, 11, 15, 16, 8, 197, 1245, 90, 67, 52, 29, 209, 30, 32, 132, 6, 109, 15, 17, 12])\n",
      " list([1, 3267, 699, 3434, 2295, 56, 2, 7511, 9, 56, 3906, 1073, 81, 5, 1198, 57, 366, 737, 132, 20, 4093, 7, 2, 49, 2295, 2, 1037, 3267, 699, 3434, 8, 7, 10, 241, 16, 855, 129, 231, 783, 5, 4, 587, 2295, 2, 2, 775, 7, 48, 34, 191, 44, 35, 1795, 505, 17, 12])]\n",
      "\n",
      " \n",
      "len:8982\n"
     ]
    }
   ],
   "source": [
    "print(train_data[0:2])\n",
    "\n",
    "print('\\n \\n' + 'len:' + str(len(train_data)))"
   ]
  },
  {
   "cell_type": "code",
   "execution_count": 4,
   "metadata": {},
   "outputs": [
    {
     "name": "stdout",
     "output_type": "stream",
     "text": [
      "[ 3  4  3 ... 25  3 25]\n",
      "45\n",
      "0\n",
      "\n",
      " \n",
      "len:8982\n"
     ]
    }
   ],
   "source": [
    "print(train_labels)\n",
    "\n",
    "print(max(train_labels))\n",
    "print(min(train_labels))\n",
    "\n",
    "print('\\n \\n' + 'len:' + str(len(train_labels)))"
   ]
  },
  {
   "cell_type": "markdown",
   "metadata": {},
   "source": [
    "### What now ?  - Preparing Data\n",
    "Now that we have our variables, we have to prepare them to feed the Neural Networks. Neural Networks infact aren't able to digest lists but we need tensors, so we need to turn these lists into tensors. But before starting it is better to mention and understand what a tensor is.\n",
    "\n",
    "#### What is a tensor ? \n",
    "\n",
    "A tensor is a container for data, generally numerical data. To properly understand what a tensor is, it may help that matrices are 2D tensors: tensors are a generalization of matrices to an arbitrary number of dimensions.\n",
    "\n",
    "    0D Tensor ==> Scalar\n",
    "    1D Tensor ==> Vector\n",
    "    2D Tensor ==> Matrices\n",
    "    3D Tensor ==> Vector of Matrices\n",
    "    4D Tensor ==> A Vector of Matrices vectors\n",
    "\n",
    "##### Tensors' Key Attribute\n",
    "\n",
    "    1) Number of axes(rank): A matrix has 2 axes, while a 3D tensor has 3 axes.\n",
    "\n",
    "    2) Shape: tuple of integers that describe how many dimensions the tensor has along each axis. A scalar has an empty shape () while a vector of five elements a shape of (5, ), a 2D tensor a shape of (3, 5) and 3D tensor (3, 3, 5)\n",
    "    \n",
    "    3) Data Type: the type of the data contained in the tensor, could be float32 float64 and so on.\n",
    "    \n",
    "    \n",
    "#### Preparing the data\n",
    "\n",
    "##### Turning variables into tensor\n",
    "\n",
    "So now we will turn the train_data and test_data variables from an array of list with 1 axis and shape (8982, ) to a tensor with two axes and shape (8982, 10000). Specifically, We will use a one-hot encode to turn our lists in vector of 0s and 1s. Inside these vector we will have 0, if the index of the world is not present within the list, otherwise we will have 1.\n",
    "\n",
    "The same has to be done with labels.\n",
    "\n"
   ]
  },
  {
   "cell_type": "code",
   "execution_count": 5,
   "metadata": {},
   "outputs": [],
   "source": [
    "# creating the vectorize_sequences function to turn the train_data values into a tensor.\n",
    "def vectorize_sequences(sequences, dimension=10000):\n",
    "    results = np.zeros((len(sequences), dimension))\n",
    "    for i, sequence in enumerate(sequences):\n",
    "        results[i, sequence] = 1\n",
    "    return results\n",
    "\n",
    "x_train = vectorize_sequences(train_data)\n",
    "x_test = vectorize_sequences(test_data)"
   ]
  },
  {
   "cell_type": "code",
   "execution_count": 6,
   "metadata": {},
   "outputs": [
    {
     "data": {
      "text/plain": [
       "(8982, 10000)"
      ]
     },
     "execution_count": 6,
     "metadata": {},
     "output_type": "execute_result"
    }
   ],
   "source": [
    "x_train.shape"
   ]
  },
  {
   "cell_type": "code",
   "execution_count": 7,
   "metadata": {},
   "outputs": [
    {
     "data": {
      "text/plain": [
       "array([[0., 1., 1., ..., 0., 0., 0.],\n",
       "       [0., 1., 1., ..., 0., 0., 0.],\n",
       "       [0., 1., 1., ..., 0., 0., 0.],\n",
       "       ...,\n",
       "       [0., 1., 1., ..., 0., 0., 0.],\n",
       "       [0., 1., 1., ..., 0., 0., 0.],\n",
       "       [0., 1., 1., ..., 0., 0., 0.]])"
      ]
     },
     "execution_count": 7,
     "metadata": {},
     "output_type": "execute_result"
    }
   ],
   "source": [
    "x_train"
   ]
  },
  {
   "cell_type": "code",
   "execution_count": 8,
   "metadata": {},
   "outputs": [],
   "source": [
    "# we have also to turn the labels into tensor. \n",
    "\n",
    "def one_hot_encoding(labels, dimension=46):\n",
    "    results = np.zeros((len(labels), dimension))\n",
    "    for i, sequence in enumerate(labels):\n",
    "        results[i, sequence] = 1\n",
    "        \n",
    "    return results\n",
    "\n",
    "one_hot_train_labels = one_hot_encoding(train_labels)\n",
    "one_hot_test_labels = one_hot_encoding(test_labels)"
   ]
  },
  {
   "cell_type": "code",
   "execution_count": 9,
   "metadata": {},
   "outputs": [],
   "source": [
    "# to vectorize the labels we can also use \n",
    "\n",
    "# from keras.utils.np.utils import to_categorical\n",
    "\n",
    "# one_hot_train_labels = to_categorical(train_labels)\n",
    "# one_hot_test_labels = to_categorical(test_labels)"
   ]
  },
  {
   "cell_type": "code",
   "execution_count": 10,
   "metadata": {},
   "outputs": [
    {
     "data": {
      "text/plain": [
       "(8982, 46)"
      ]
     },
     "execution_count": 10,
     "metadata": {},
     "output_type": "execute_result"
    }
   ],
   "source": [
    "one_hot_train_labels.shape"
   ]
  },
  {
   "cell_type": "markdown",
   "metadata": {},
   "source": [
    "### Feeding the network\n",
    "\n",
    "Once the data is ready to be fed to the network, it's time to create the network. Here a very simple network is used, with 3 layers and 64 hidden units for the first two and  46 hidden unit for the final layer. In the fist two layers we are using 64 hidden units, doing this the model will project the input data into a 64-dimensional representation space and will work on that to learn hints from data. It's important to notice that the number of hidden layers of the first layers are bigger than the number of the classes that we want to learn from. In the final layer we will have 46 hidden unit, because we want that the model output is the probability distribution of each newswires to over the 46 different classes .\n",
    "\n",
    "#### Step\n",
    "\n",
    "1) First we create the model using the command models from the keras module. In this case we are using a sequential model: A Sequential model is appropriate for a plain stack of layers where each layer has exactly one input tensor and one output tensor. ( source : https://keras.io/guides/sequential_model/). To do this we use the following command:\n",
    "    \n",
    "    model = models.Sequential()\n",
    "    \n",
    "2) We create the stack of fully connected (Dense) layers. When we create the layer we have also to specify the activation function. For the first two layers we use the relu function meant to to zero out negative values while we will use a softmax function function in the last layer, because a softmax function will output a 46-dimensional vector with a probability distribution over the 46 different classes. To do so we use the following commands:\n",
    "\n",
    "    model.add(layers.Dense(64, activation = 'relu', input_shape = (10000, )))\n",
    "    model.add(layers.Dense(64, activation = 'relu'))\n",
    "    model.add(layers.Dense(46, activation = 'softmax'))\n",
    "    \n",
    "    \n",
    "\n",
    "3) At the end we have to set the loss function and the optimizer. In this case because we're facing a multi_class classification problem and the output is a probability distribution over the different classes, it's best to use the categorical_crossentropy loss. While as optimizer we will use rmsprop. But before we move forward it's best to explain why we need them:\n",
    "    \n",
    "loss function: how the network will be able to measure its performance on the training data, and thus how it will be able to steer itself in the right direction.\n",
    "    \n",
    "optimizer: the mechanism through which the network will update itself based on the data it sees and its loss function.\n",
    "    \n",
    "To do so we use the command compile:\n",
    "\n",
    "    model.compile(optimizer='rmsprop',\n",
    "             loss='categorical_crossentropy',\n",
    "             metrics=['accuracy'])\n",
    "        \n",
    "    \n",
    "    \n",
    "    \n",
    "In few words, the  loss function is the signal for the network to understand how good is predicting the value y_pred compared to the known target y. Starting from the value of the loss function the optimizer will works backward computing the new contribution that each parameter had in the loss value.\n",
    "\n",
    "#### Recapping: \n",
    "\n",
    "    1) we start feeding the network with the data\n",
    "    2) these data are processed by the various layers within the network and network starts learning \n",
    "    3) using loss function and an optimizer the network adapts and change the way its learning.\n",
    " "
   ]
  },
  {
   "cell_type": "code",
   "execution_count": 11,
   "metadata": {},
   "outputs": [],
   "source": [
    "from keras import models\n",
    "from keras import layers"
   ]
  },
  {
   "cell_type": "code",
   "execution_count": 12,
   "metadata": {},
   "outputs": [],
   "source": [
    "model = models.Sequential()\n",
    "model.add(layers.Dense(64, activation = 'relu', input_shape = (10000, )))\n",
    "model.add(layers.Dense(64, activation = 'relu'))\n",
    "model.add(layers.Dense(46, activation = 'softmax'))"
   ]
  },
  {
   "cell_type": "code",
   "execution_count": 13,
   "metadata": {},
   "outputs": [],
   "source": [
    "model.compile(optimizer='rmsprop',\n",
    "             loss='categorical_crossentropy',\n",
    "             metrics=['accuracy'])"
   ]
  },
  {
   "cell_type": "code",
   "execution_count": 14,
   "metadata": {},
   "outputs": [],
   "source": [
    "# before we fit the model, we create a validation set, doing this we will be able to monitor the accuracy \n",
    "# of the model also in data that has never seen before.\n",
    "\n",
    "x_val = x_train[:1000]\n",
    "partial_x_train = x_train[1000:]\n",
    "\n",
    "y_val = one_hot_train_labels[:1000]\n",
    "partial_y_train = one_hot_train_labels[1000:]"
   ]
  },
  {
   "cell_type": "code",
   "execution_count": 15,
   "metadata": {
    "scrolled": true
   },
   "outputs": [
    {
     "name": "stdout",
     "output_type": "stream",
     "text": [
      "Epoch 1/20\n",
      "16/16 [==============================] - 0s 25ms/step - loss: 2.5668 - accuracy: 0.5267 - val_loss: 1.6892 - val_accuracy: 0.6570\n",
      "Epoch 2/20\n",
      "16/16 [==============================] - 0s 18ms/step - loss: 1.3767 - accuracy: 0.7125 - val_loss: 1.2714 - val_accuracy: 0.7120\n",
      "Epoch 3/20\n",
      "16/16 [==============================] - 0s 17ms/step - loss: 1.0168 - accuracy: 0.7814 - val_loss: 1.0973 - val_accuracy: 0.7580\n",
      "Epoch 4/20\n",
      "16/16 [==============================] - 0s 19ms/step - loss: 0.7962 - accuracy: 0.8322 - val_loss: 1.0076 - val_accuracy: 0.7860\n",
      "Epoch 5/20\n",
      "16/16 [==============================] - 0s 17ms/step - loss: 0.6375 - accuracy: 0.8659 - val_loss: 0.9522 - val_accuracy: 0.7920\n",
      "Epoch 6/20\n",
      "16/16 [==============================] - 0s 19ms/step - loss: 0.5106 - accuracy: 0.8935 - val_loss: 0.9038 - val_accuracy: 0.8100\n",
      "Epoch 7/20\n",
      "16/16 [==============================] - 0s 17ms/step - loss: 0.4124 - accuracy: 0.9157 - val_loss: 0.9030 - val_accuracy: 0.8020\n",
      "Epoch 8/20\n",
      "16/16 [==============================] - 0s 16ms/step - loss: 0.3372 - accuracy: 0.9281 - val_loss: 0.8987 - val_accuracy: 0.8170\n",
      "Epoch 9/20\n",
      "16/16 [==============================] - 0s 16ms/step - loss: 0.2805 - accuracy: 0.9367 - val_loss: 0.9113 - val_accuracy: 0.8120\n",
      "Epoch 10/20\n",
      "16/16 [==============================] - 0s 17ms/step - loss: 0.2389 - accuracy: 0.9463 - val_loss: 0.9592 - val_accuracy: 0.7990\n",
      "Epoch 11/20\n",
      "16/16 [==============================] - 0s 18ms/step - loss: 0.2013 - accuracy: 0.9498 - val_loss: 0.9153 - val_accuracy: 0.8160\n",
      "Epoch 12/20\n",
      "16/16 [==============================] - 0s 19ms/step - loss: 0.1814 - accuracy: 0.9516 - val_loss: 0.9111 - val_accuracy: 0.8170\n",
      "Epoch 13/20\n",
      "16/16 [==============================] - 0s 16ms/step - loss: 0.1659 - accuracy: 0.9531 - val_loss: 1.0138 - val_accuracy: 0.8010\n",
      "Epoch 14/20\n",
      "16/16 [==============================] - 0s 16ms/step - loss: 0.1531 - accuracy: 0.9549 - val_loss: 1.0152 - val_accuracy: 0.8060\n",
      "Epoch 15/20\n",
      "16/16 [==============================] - 0s 18ms/step - loss: 0.1383 - accuracy: 0.9562 - val_loss: 0.9874 - val_accuracy: 0.8160\n",
      "Epoch 16/20\n",
      "16/16 [==============================] - 0s 18ms/step - loss: 0.1275 - accuracy: 0.9582 - val_loss: 1.0125 - val_accuracy: 0.8080\n",
      "Epoch 17/20\n",
      "16/16 [==============================] - 0s 17ms/step - loss: 0.1227 - accuracy: 0.9564 - val_loss: 1.0361 - val_accuracy: 0.8060\n",
      "Epoch 18/20\n",
      "16/16 [==============================] - 0s 16ms/step - loss: 0.1186 - accuracy: 0.9577 - val_loss: 1.0400 - val_accuracy: 0.8060\n",
      "Epoch 19/20\n",
      "16/16 [==============================] - 0s 16ms/step - loss: 0.1176 - accuracy: 0.9568 - val_loss: 1.0528 - val_accuracy: 0.8110\n",
      "Epoch 20/20\n",
      "16/16 [==============================] - 0s 17ms/step - loss: 0.1137 - accuracy: 0.9575 - val_loss: 1.0618 - val_accuracy: 0.8050\n"
     ]
    }
   ],
   "source": [
    "# here we set the epochs=20, meaning how many iterations the network do to learn and improve its performances.\n",
    "# while the batch size defines the number of samples that will be propagated through the network. In this case \n",
    "# we're say to the model to divide the training set in x batch of 512 elements.\n",
    "\n",
    "history = model.fit(partial_x_train,\n",
    "                   partial_y_train,\n",
    "                   epochs=20,\n",
    "                   batch_size=512,\n",
    "                   validation_data=(x_val, y_val))"
   ]
  },
  {
   "cell_type": "code",
   "execution_count": 16,
   "metadata": {},
   "outputs": [
    {
     "data": {
      "text/plain": [
       "dict_keys(['loss', 'accuracy', 'val_loss', 'val_accuracy'])"
      ]
     },
     "execution_count": 16,
     "metadata": {},
     "output_type": "execute_result"
    }
   ],
   "source": [
    "history_dict = history.history\n",
    "history_dict.keys()"
   ]
  },
  {
   "cell_type": "markdown",
   "metadata": {},
   "source": [
    "### Conclusion\n",
    "\n",
    "Now that we have trained the model we will take some minutes to understand what was going on during the learning process. We will plot some metrics like Training loss, Validation loss and Training Accuracy and Validation Accuracy using the matplot module."
   ]
  },
  {
   "cell_type": "code",
   "execution_count": 17,
   "metadata": {},
   "outputs": [
    {
     "data": {
      "image/png": "[encoded data removed]",
      "text/plain": [
       "<Figure size 432x288 with 1 Axes>"
      ]
     },
     "metadata": {
      "needs_background": "light"
     },
     "output_type": "display_data"
    }
   ],
   "source": [
    "import matplotlib.pyplot as plt\n",
    "\n",
    "\n",
    "loss_values = history_dict['loss']\n",
    "val_loss_values = history_dict['val_loss']\n",
    "accuracy = history_dict['accuracy']\n",
    "epochs = range(1, len(accuracy)+1)\n",
    "plt.plot(epochs, loss_values, 'bo', label = 'Training loss')\n",
    "plt.plot(epochs, val_loss_values, 'b', label = 'Validation loss')\n",
    "plt.title('Training and validation loss')\n",
    "plt.xlabel('Epochs')\n",
    "plt.ylabel('Loss')\n",
    "plt.legend()\n",
    "\n",
    "plt.show()\n"
   ]
  },
  {
   "cell_type": "code",
   "execution_count": 18,
   "metadata": {},
   "outputs": [
    {
     "data": {
      "image/png": "[encoded data removed]",
      "text/plain": [
       "<Figure size 432x288 with 1 Axes>"
      ]
     },
     "metadata": {
      "needs_background": "light"
     },
     "output_type": "display_data"
    }
   ],
   "source": [
    "plt.clf()\n",
    "\n",
    "val_acc = history_dict['val_accuracy']\n",
    "plt.plot(epochs, accuracy , 'bo', label = 'Training Acc')\n",
    "plt.plot(epochs, val_acc, 'b', label = 'Validation Acc')\n",
    "plt.title('Training and validation Accuracy')\n",
    "plt.xlabel('Epochs')\n",
    "plt.ylabel('Loss')\n",
    "plt.legend()\n",
    "\n",
    "plt.show()"
   ]
  },
  {
   "cell_type": "markdown",
   "metadata": {},
   "source": [
    "As we can see from the chart Training loss is decreasing iteration after iteration while accuracy is increasing each iteration. The problem is that validation loss and validation accuracy ( the metrics to perform the model on unknown data) after the nineth iteration have a different behaviour. These are clear symptoms of overfitting: the model is very good on predict known data, but not very good on predict unknown data affecting the goodness of the model. \n",
    "\n",
    "We will probably se how to solve overfitting in the next exercise."
   ]
  },
  {
   "cell_type": "code",
   "execution_count": 19,
   "metadata": {},
   "outputs": [
    {
     "name": "stdout",
     "output_type": "stream",
     "text": [
      "71/71 [==============================] - 0s 1ms/step - loss: 1.2581 - accuracy: 0.7823\n"
     ]
    },
    {
     "data": {
      "text/plain": [
       "[1.2581285238265991, 0.7822796106338501]"
      ]
     },
     "execution_count": 19,
     "metadata": {},
     "output_type": "execute_result"
    }
   ],
   "source": [
    "# evaluating the performance of the model on predicting unknown data.\n",
    "# we use the test set to check the performance using the accuracy metric.\n",
    "results = model.evaluate(x_test, one_hot_test_labels)\n",
    "\n",
    "results"
   ]
  },
  {
   "cell_type": "markdown",
   "metadata": {},
   "source": [
    "As we can see the model has an accuracy of 85%, this means that it's able to predict correctly the 85% of the reviews."
   ]
  },
  {
   "cell_type": "markdown",
   "metadata": {},
   "source": [
    "### Let's see the output"
   ]
  },
  {
   "cell_type": "code",
   "execution_count": 20,
   "metadata": {},
   "outputs": [],
   "source": [
    "predict = model.predict(x_test)"
   ]
  },
  {
   "cell_type": "code",
   "execution_count": 21,
   "metadata": {},
   "outputs": [
    {
     "data": {
      "text/plain": [
       "(46,)"
      ]
     },
     "execution_count": 21,
     "metadata": {},
     "output_type": "execute_result"
    }
   ],
   "source": [
    "predict[0].shape"
   ]
  },
  {
   "cell_type": "code",
   "execution_count": 22,
   "metadata": {},
   "outputs": [
    {
     "data": {
      "text/plain": [
       "1.0"
      ]
     },
     "execution_count": 22,
     "metadata": {},
     "output_type": "execute_result"
    }
   ],
   "source": [
    "np.sum(predict[0])"
   ]
  },
  {
   "cell_type": "code",
   "execution_count": 23,
   "metadata": {},
   "outputs": [
    {
     "data": {
      "text/plain": [
       "3"
      ]
     },
     "execution_count": 23,
     "metadata": {},
     "output_type": "execute_result"
    }
   ],
   "source": [
    "np.argmax(predict[0])"
   ]
  },
  {
   "cell_type": "code",
   "execution_count": null,
   "metadata": {},
   "outputs": [],
   "source": []
  },
  {
   "cell_type": "code",
   "execution_count": null,
   "metadata": {},
   "outputs": [],
   "source": []
  }
 ],
 "metadata": {
  "kernelspec": {
   "display_name": "Python 3",
   "language": "python",
   "name": "python3"
  },
  "language_info": {
   "codemirror_mode": {
    "name": "ipython",
    "version": 3
   },
   "file_extension": ".py",
   "mimetype": "text/x-python",
   "name": "python",
   "nbconvert_exporter": "python",
   "pygments_lexer": "ipython3",
   "version": "3.8.2"
  }
 },
 "nbformat": 4,
 "nbformat_minor": 4
}
