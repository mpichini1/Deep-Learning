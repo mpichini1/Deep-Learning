{
 "cells": [
  {
   "cell_type": "markdown",
   "metadata": {},
   "source": [
    "# Excersice 1\n",
    "\n",
    "### Classify vector inputs into two mutually exclusive classes using a densely connected Neural Network.\n",
    "\n",
    "\n",
    "### IMDB datasets, Keras."
   ]
  },
  {
   "cell_type": "code",
   "execution_count": 1,
   "metadata": {},
   "outputs": [],
   "source": [
    "from keras.datasets import imdb\n",
    "import numpy as np"
   ]
  },
  {
   "cell_type": "markdown",
   "metadata": {},
   "source": [
    "### Introduction\n",
    "\n",
    "The exercise was taken from the book Deep Learning With Python, written by Francois Chollet. \n",
    "\n",
    "This is a simple two-class classification problem, learning how to classify movie reviews as positive or negative based on the content of the review.\n",
    "\n",
    "##### Dataset Details:\n",
    "    1) 50,000 higly polarized reviews;\n",
    "    2) Split in 25,000 reviews for training and 25,000 reviews for testing;\n",
    "    3) Each set consist in 50% negative reviews and 50% positive reviews;\n",
    "    \n",
    "##### We are going to create new variables where:\n",
    "    \n",
    "    1) train_data and train_labels will be used to train the model;\n",
    "    2) test_data test_lables will be used to test how good is the model in classify un-known attributes;\n",
    "    3) train_data and test_data are a list of reviews, each review is a list of word indices;\n",
    "    4) train_labels and test_labels are list of 0s and 1s where 0 = negative and 1 = positive;\n",
    "    "
   ]
  },
  {
   "cell_type": "code",
   "execution_count": 2,
   "metadata": {},
   "outputs": [],
   "source": [
    "# splitting the IMDB dataset in Training test e and test set.\n",
    "# num_words == we will keep only the most 10,000 used words, discarding rare words to decrease the vectors' size.\n",
    "\n",
    "(train_data, train_labels), (test_data, test_labels) = imdb.load_data(num_words=10000)"
   ]
  },
  {
   "cell_type": "code",
   "execution_count": 3,
   "metadata": {},
   "outputs": [
    {
     "data": {
      "text/plain": [
       "array([list([1, 14, 22, 16, 43, 530, 973, 1622, 1385, 65, 458, 4468, 66, 3941, 4, 173, 36, 256, 5, 25, 100, 43, 838, 112, 50, 670, 2, 9, 35, 480, 284, 5, 150, 4, 172, 112, 167, 2, 336, 385, 39, 4, 172, 4536, 1111, 17, 546, 38, 13, 447, 4, 192, 50, 16, 6, 147, 2025, 19, 14, 22, 4, 1920, 4613, 469, 4, 22, 71, 87, 12, 16, 43, 530, 38, 76, 15, 13, 1247, 4, 22, 17, 515, 17, 12, 16, 626, 18, 2, 5, 62, 386, 12, 8, 316, 8, 106, 5, 4, 2223, 5244, 16, 480, 66, 3785, 33, 4, 130, 12, 16, 38, 619, 5, 25, 124, 51, 36, 135, 48, 25, 1415, 33, 6, 22, 12, 215, 28, 77, 52, 5, 14, 407, 16, 82, 2, 8, 4, 107, 117, 5952, 15, 256, 4, 2, 7, 3766, 5, 723, 36, 71, 43, 530, 476, 26, 400, 317, 46, 7, 4, 2, 1029, 13, 104, 88, 4, 381, 15, 297, 98, 32, 2071, 56, 26, 141, 6, 194, 7486, 18, 4, 226, 22, 21, 134, 476, 26, 480, 5, 144, 30, 5535, 18, 51, 36, 28, 224, 92, 25, 104, 4, 226, 65, 16, 38, 1334, 88, 12, 16, 283, 5, 16, 4472, 113, 103, 32, 15, 16, 5345, 19, 178, 32]),\n",
       "       list([1, 194, 1153, 194, 8255, 78, 228, 5, 6, 1463, 4369, 5012, 134, 26, 4, 715, 8, 118, 1634, 14, 394, 20, 13, 119, 954, 189, 102, 5, 207, 110, 3103, 21, 14, 69, 188, 8, 30, 23, 7, 4, 249, 126, 93, 4, 114, 9, 2300, 1523, 5, 647, 4, 116, 9, 35, 8163, 4, 229, 9, 340, 1322, 4, 118, 9, 4, 130, 4901, 19, 4, 1002, 5, 89, 29, 952, 46, 37, 4, 455, 9, 45, 43, 38, 1543, 1905, 398, 4, 1649, 26, 6853, 5, 163, 11, 3215, 2, 4, 1153, 9, 194, 775, 7, 8255, 2, 349, 2637, 148, 605, 2, 8003, 15, 123, 125, 68, 2, 6853, 15, 349, 165, 4362, 98, 5, 4, 228, 9, 43, 2, 1157, 15, 299, 120, 5, 120, 174, 11, 220, 175, 136, 50, 9, 4373, 228, 8255, 5, 2, 656, 245, 2350, 5, 4, 9837, 131, 152, 491, 18, 2, 32, 7464, 1212, 14, 9, 6, 371, 78, 22, 625, 64, 1382, 9, 8, 168, 145, 23, 4, 1690, 15, 16, 4, 1355, 5, 28, 6, 52, 154, 462, 33, 89, 78, 285, 16, 145, 95])],\n",
       "      dtype=object)"
      ]
     },
     "execution_count": 3,
     "metadata": {},
     "output_type": "execute_result"
    }
   ],
   "source": [
    "train_data[0:2]"
   ]
  },
  {
   "cell_type": "code",
   "execution_count": 4,
   "metadata": {},
   "outputs": [
    {
     "data": {
      "text/plain": [
       "(25000,)"
      ]
     },
     "execution_count": 4,
     "metadata": {},
     "output_type": "execute_result"
    }
   ],
   "source": [
    "train_labels.shape"
   ]
  },
  {
   "cell_type": "markdown",
   "metadata": {},
   "source": [
    "### What now ?  - Preparing Data\n",
    "Now that we have our variables, we have to prepare them to feed the Neural Networks. Neural Networks infact aren't able to digest lists but we need tensors, so we need to turn these lists into tensors. But before starting it is better to mention and understand what a tensor is.\n",
    "\n",
    "#### What is a tensor ? \n",
    "\n",
    "A tensor is a container for data, generally numerical data. To properly understand what a tensor is, it may help that matrices are 2D tensors: tensors are a generalization of matrices to an arbitrary number of dimensions.\n",
    "\n",
    "    0D Tensor ==> Scalar\n",
    "    1D Tensor ==> Vector\n",
    "    2D Tensor ==> Matrices\n",
    "    3D Tensor ==> Vector of Matrices\n",
    "    4D Tensor ==> A Vector of Matrices vectors\n",
    "\n",
    "##### Tensors' Key Attribute\n",
    "\n",
    "    1) Number of axes(rank): A matrix has 2 axes, while a 3D tensor has 3 axes.\n",
    "\n",
    "    2) Shape: tuple of integers that describe how many dimensions the tensor has along each axis. A scalar has an empty shape () while a vector of five elements a shape of (5, ), a 2D tensor a shape of (3, 5) and 3D tensor (3, 3, 5)\n",
    "    \n",
    "    3) Data Type: the type of the data contained in the tensor, could be float32 float64 and so on.\n",
    "    \n",
    "    \n",
    "#### Preparing the data\n",
    "\n",
    "##### Turning variables into tensor\n",
    "\n",
    "So now we will turn the train_data and test_data variables from an array of list with 1 axis and shape (25000, ) to a tensor with two axes and shape (25000, 10000). Specifically, We will use a one-hot encode to turn our lists in vector of 0s and 1s. Inside these vector we will have 0, if the index of the world is not present within the list, otherwise we will have 1.\n",
    "\n",
    "Then we have to turn labelss into vectors.\n",
    "\n"
   ]
  },
  {
   "cell_type": "code",
   "execution_count": 5,
   "metadata": {},
   "outputs": [],
   "source": [
    "# creating the vectorize_sequences function to turn the train_data values into a tensor.\n",
    "def vectorize_sequences(sequences, dimension=10000):\n",
    "    results = np.zeros((len(sequences), dimension))\n",
    "    for i, sequence in enumerate(sequences):\n",
    "        results[i, sequence] = 1\n",
    "    return results\n",
    "\n",
    "x_train = vectorize_sequences(train_data)\n",
    "x_test = vectorize_sequences(test_data)"
   ]
  },
  {
   "cell_type": "code",
   "execution_count": 6,
   "metadata": {},
   "outputs": [
    {
     "data": {
      "text/plain": [
       "(25000, 10000)"
      ]
     },
     "execution_count": 6,
     "metadata": {},
     "output_type": "execute_result"
    }
   ],
   "source": [
    "x_train.shape"
   ]
  },
  {
   "cell_type": "code",
   "execution_count": 7,
   "metadata": {},
   "outputs": [
    {
     "data": {
      "text/plain": [
       "array([[0., 1., 1., ..., 0., 0., 0.],\n",
       "       [0., 1., 1., ..., 0., 0., 0.],\n",
       "       [0., 1., 1., ..., 0., 0., 0.],\n",
       "       ...,\n",
       "       [0., 1., 1., ..., 0., 0., 0.],\n",
       "       [0., 1., 1., ..., 0., 0., 0.],\n",
       "       [0., 1., 1., ..., 0., 0., 0.]])"
      ]
     },
     "execution_count": 7,
     "metadata": {},
     "output_type": "execute_result"
    }
   ],
   "source": [
    "x_train"
   ]
  },
  {
   "cell_type": "code",
   "execution_count": 8,
   "metadata": {},
   "outputs": [
    {
     "data": {
      "text/plain": [
       "array([1, 0, 0, ..., 0, 1, 0])"
      ]
     },
     "execution_count": 8,
     "metadata": {},
     "output_type": "execute_result"
    }
   ],
   "source": [
    "train_labels"
   ]
  },
  {
   "cell_type": "code",
   "execution_count": 9,
   "metadata": {},
   "outputs": [],
   "source": [
    "# turning labels into vectors\n",
    "\n",
    "y_train = np.asarray(train_labels).astype('float32')\n",
    "y_test = np.asarray(test_labels).astype('float32')"
   ]
  },
  {
   "cell_type": "code",
   "execution_count": 10,
   "metadata": {},
   "outputs": [
    {
     "data": {
      "text/plain": [
       "array([1., 0., 0., ..., 0., 1., 0.], dtype=float32)"
      ]
     },
     "execution_count": 10,
     "metadata": {},
     "output_type": "execute_result"
    }
   ],
   "source": [
    "y_train"
   ]
  },
  {
   "cell_type": "code",
   "execution_count": 11,
   "metadata": {},
   "outputs": [
    {
     "data": {
      "text/plain": [
       "array([0., 1., 1., ..., 0., 0., 0.], dtype=float32)"
      ]
     },
     "execution_count": 11,
     "metadata": {},
     "output_type": "execute_result"
    }
   ],
   "source": [
    "y_test"
   ]
  },
  {
   "cell_type": "markdown",
   "metadata": {},
   "source": [
    "### Feeding the network\n",
    "\n",
    "Once the data is ready to be fed to the network, it's time to create the network. Here a very simple network is used, with 3 layers and 16 hidden units for the first two and just one hidden unit for the final layer. In the fist two layers we are using 16 hidden units, doing this the model will project the input data into a 16-dimensional representation space and will work on that to learn hints from data. In the final layer we will have just one hidden unit, because we want that the model output is the probability of each investigated review to be 1 ==> positive.\n",
    "\n",
    "#### Step\n",
    "\n",
    "1) First we create the model using the command models from the keras module. In this case we are using a sequential model: A Sequential model is appropriate for a plain stack of layers where each layer has exactly one input tensor and one output tensor. ( source : https://keras.io/guides/sequential_model/). To do this we use the following command:\n",
    "    \n",
    "    model = models.Sequential()\n",
    "    \n",
    "2) We create the stack of fully connected (Dense) layers. When we create the layer we have also to specify the activation function. For the first two layers we use the relu function meant to to zero out negative values while we will use a sigmoid function in the last layer, because a sigmoid function squashes arbitrary values into the [0,1] range in which the output can be interpreted as a probability. To do so we use the following commands:\n",
    "\n",
    "    model.add(layers.Dense(16, activation = 'relu', input_shape = (10000, )))\n",
    "    model.add(layers.Dense(16, activation = 'relu'))\n",
    "    model.add(layers.Dense(1, activation = 'sigmoid'))\n",
    "    \n",
    "    \n",
    "\n",
    "3) At the end we have to set the loss function and the optimizer. In this case because we're facing a binary classification problem and the output is a probability, it's best to use the binary_crossentropy loss. While as optimizer we will use rmsprop. But before we move forward it's best to explain why we need them:\n",
    "    \n",
    "loss function: how the network will be able to measure its performance on the training data, and thus how it will be able to steer itself in the right direction.\n",
    "    \n",
    "optimizer: the mechanism through which the network will update itself based on the data it sees and its loss function.\n",
    "    \n",
    "To do so we use the command compile:\n",
    "\n",
    "    model.compile(optimizer='rmsprop',\n",
    "             loss='categorical_crossentropy',\n",
    "             metrics=['accuracy'])\n",
    "        \n",
    "    \n",
    "    \n",
    "    \n",
    "In few words, the  loss function is the signal for the network to understand how good is predicting the value y_pred compared to the known target y. Starting from the value of the loss function the optimizer will works backward computing the new contribution that each parameter had in the loss value.\n",
    "\n",
    "#### Recapping: \n",
    "\n",
    "    1) we start feeding the network with the data\n",
    "    2) these data are processed by the various layers within the network and network starts learning \n",
    "    3) using loss function and an optimizer the network adapts and change the way its learning.\n",
    " "
   ]
  },
  {
   "cell_type": "code",
   "execution_count": 21,
   "metadata": {},
   "outputs": [],
   "source": [
    "from keras import models\n",
    "from keras import layers"
   ]
  },
  {
   "cell_type": "code",
   "execution_count": 22,
   "metadata": {},
   "outputs": [],
   "source": [
    "model = models.Sequential()\n",
    "model.add(layers.Dense(16, activation = 'relu', input_shape = (10000, )))\n",
    "model.add(layers.Dense(16, activation = 'relu'))\n",
    "model.add(layers.Dense(1, activation = 'sigmoid'))"
   ]
  },
  {
   "cell_type": "code",
   "execution_count": 23,
   "metadata": {},
   "outputs": [],
   "source": [
    "model.compile(optimizer='rmsprop',\n",
    "             loss='binary_crossentropy',\n",
    "             metrics=['accuracy'])"
   ]
  },
  {
   "cell_type": "code",
   "execution_count": 24,
   "metadata": {},
   "outputs": [],
   "source": [
    "# before we fit the model, we create a validation set, doing this we will be able to monitor the accuracy \n",
    "# of the model also in data that has never seen before.\n",
    "\n",
    "x_val = x_train[:10000]\n",
    "partial_x_train = x_train[10000:]\n",
    "\n",
    "y_val = y_train[:10000]\n",
    "partial_y_train = y_train[10000:]"
   ]
  },
  {
   "cell_type": "code",
   "execution_count": 25,
   "metadata": {
    "scrolled": true
   },
   "outputs": [
    {
     "name": "stdout",
     "output_type": "stream",
     "text": [
      "Epoch 1/20\n",
      "30/30 [==============================] - 1s 37ms/step - loss: 0.5372 - accuracy: 0.7930 - val_loss: 0.4114 - val_accuracy: 0.8699\n",
      "Epoch 2/20\n",
      "30/30 [==============================] - 1s 19ms/step - loss: 0.3272 - accuracy: 0.8991 - val_loss: 0.3184 - val_accuracy: 0.8853\n",
      "Epoch 3/20\n",
      "30/30 [==============================] - 1s 17ms/step - loss: 0.2388 - accuracy: 0.9229 - val_loss: 0.2856 - val_accuracy: 0.8901\n",
      "Epoch 4/20\n",
      "30/30 [==============================] - 1s 17ms/step - loss: 0.1854 - accuracy: 0.9415 - val_loss: 0.2743 - val_accuracy: 0.8918\n",
      "Epoch 5/20\n",
      "30/30 [==============================] - 1s 19ms/step - loss: 0.1510 - accuracy: 0.9512 - val_loss: 0.3081 - val_accuracy: 0.8759\n",
      "Epoch 6/20\n",
      "30/30 [==============================] - 1s 17ms/step - loss: 0.1249 - accuracy: 0.9616 - val_loss: 0.2869 - val_accuracy: 0.8872\n",
      "Epoch 7/20\n",
      "30/30 [==============================] - 0s 16ms/step - loss: 0.1024 - accuracy: 0.9700 - val_loss: 0.3115 - val_accuracy: 0.8807\n",
      "Epoch 8/20\n",
      "30/30 [==============================] - 1s 17ms/step - loss: 0.0852 - accuracy: 0.9757 - val_loss: 0.3688 - val_accuracy: 0.8754\n",
      "Epoch 9/20\n",
      "30/30 [==============================] - 1s 18ms/step - loss: 0.0697 - accuracy: 0.9821 - val_loss: 0.3457 - val_accuracy: 0.8816\n",
      "Epoch 10/20\n",
      "30/30 [==============================] - 0s 16ms/step - loss: 0.0571 - accuracy: 0.9862 - val_loss: 0.3786 - val_accuracy: 0.8780\n",
      "Epoch 11/20\n",
      "30/30 [==============================] - 1s 17ms/step - loss: 0.0467 - accuracy: 0.9889 - val_loss: 0.3882 - val_accuracy: 0.8766\n",
      "Epoch 12/20\n",
      "30/30 [==============================] - 1s 17ms/step - loss: 0.0360 - accuracy: 0.9926 - val_loss: 0.4190 - val_accuracy: 0.8751\n",
      "Epoch 13/20\n",
      "30/30 [==============================] - 0s 16ms/step - loss: 0.0289 - accuracy: 0.9947 - val_loss: 0.4506 - val_accuracy: 0.8727\n",
      "Epoch 14/20\n",
      "30/30 [==============================] - 1s 17ms/step - loss: 0.0221 - accuracy: 0.9970 - val_loss: 0.4848 - val_accuracy: 0.8705\n",
      "Epoch 15/20\n",
      "30/30 [==============================] - 1s 17ms/step - loss: 0.0180 - accuracy: 0.9970 - val_loss: 0.5178 - val_accuracy: 0.8726\n",
      "Epoch 16/20\n",
      "30/30 [==============================] - 0s 16ms/step - loss: 0.0145 - accuracy: 0.9977 - val_loss: 0.6069 - val_accuracy: 0.8682\n",
      "Epoch 17/20\n",
      "30/30 [==============================] - 0s 16ms/step - loss: 0.0083 - accuracy: 0.9995 - val_loss: 0.5761 - val_accuracy: 0.8679\n",
      "Epoch 18/20\n",
      "30/30 [==============================] - 1s 18ms/step - loss: 0.0096 - accuracy: 0.9987 - val_loss: 0.6096 - val_accuracy: 0.8700\n",
      "Epoch 19/20\n",
      "30/30 [==============================] - 1s 18ms/step - loss: 0.0046 - accuracy: 0.9999 - val_loss: 0.6473 - val_accuracy: 0.8668\n",
      "Epoch 20/20\n",
      "30/30 [==============================] - 1s 17ms/step - loss: 0.0069 - accuracy: 0.9991 - val_loss: 0.6844 - val_accuracy: 0.8684\n"
     ]
    }
   ],
   "source": [
    "# here we set the epochs=20, meaning how many iterations the network do to learn and improve its performances.\n",
    "# while the batch size defines the number of samples that will be propagated through the network. In this case \n",
    "# we're say to the model to divide the training set in x batch of 512 elements.\n",
    "\n",
    "history = model.fit(partial_x_train,\n",
    "                   partial_y_train,\n",
    "                   epochs=20,\n",
    "                   batch_size=512,\n",
    "                   validation_data=(x_val, y_val))"
   ]
  },
  {
   "cell_type": "code",
   "execution_count": 26,
   "metadata": {},
   "outputs": [
    {
     "data": {
      "text/plain": [
       "dict_keys(['loss', 'accuracy', 'val_loss', 'val_accuracy'])"
      ]
     },
     "execution_count": 26,
     "metadata": {},
     "output_type": "execute_result"
    }
   ],
   "source": [
    "history_dict = history.history\n",
    "history_dict.keys()"
   ]
  },
  {
   "cell_type": "markdown",
   "metadata": {},
   "source": [
    "### Conclusion\n",
    "\n",
    "Now that we have trained the model we will take some minutes to understand what was going on during the learning process. We will plot some metrics like Training loss, Validation loss and Training Accuracy and Validation Accuracy using the matplot module."
   ]
  },
  {
   "cell_type": "code",
   "execution_count": 27,
   "metadata": {},
   "outputs": [
    {
     "data": {
      "image/png": "[encoded data removed]",
      "text/plain": [
       "<Figure size 432x288 with 1 Axes>"
      ]
     },
     "metadata": {
      "needs_background": "light"
     },
     "output_type": "display_data"
    }
   ],
   "source": [
    "import matplotlib.pyplot as plt\n",
    "\n",
    "\n",
    "loss_values = history_dict['loss']\n",
    "val_loss_values = history_dict['val_loss']\n",
    "accuracy = history_dict['accuracy']\n",
    "epochs = range(1, len(accuracy)+1)\n",
    "plt.plot(epochs, loss_values, 'bo', label = 'Training loss')\n",
    "plt.plot(epochs, val_loss_values, 'b', label = 'Validation loss')\n",
    "plt.title('Training and validation loss')\n",
    "plt.xlabel('Epochs')\n",
    "plt.ylabel('Loss')\n",
    "plt.legend()\n",
    "\n",
    "plt.show()\n"
   ]
  },
  {
   "cell_type": "code",
   "execution_count": 28,
   "metadata": {},
   "outputs": [
    {
     "data": {
      "image/png": "[encoded data removed]",
      "text/plain": [
       "<Figure size 432x288 with 1 Axes>"
      ]
     },
     "metadata": {
      "needs_background": "light"
     },
     "output_type": "display_data"
    }
   ],
   "source": [
    "plt.clf()\n",
    "\n",
    "val_acc = history_dict['val_accuracy']\n",
    "plt.plot(epochs, accuracy , 'bo', label = 'Training Acc')\n",
    "plt.plot(epochs, val_acc, 'b', label = 'Validation Acc')\n",
    "plt.title('Training and validation Accuracy')\n",
    "plt.xlabel('Epochs')\n",
    "plt.ylabel('Loss')\n",
    "plt.legend()\n",
    "\n",
    "plt.show()"
   ]
  },
  {
   "cell_type": "markdown",
   "metadata": {},
   "source": [
    "As we can see from the chart Training loss is decreasing iteration after iteration while accuracy is increasing each iteration. The problem is that validation loss and validation accuracy ( the metrics to perform the model on unknown data) after the fourth iteration have a different behaviour. These are clear symptoms of overfitting: the model is very good on predict known data, but not very good on predict unknown data affecting the goodness of the model. \n",
    "\n",
    "We will probably se how to solve overfitting in the next exercise."
   ]
  },
  {
   "cell_type": "code",
   "execution_count": 30,
   "metadata": {},
   "outputs": [
    {
     "name": "stdout",
     "output_type": "stream",
     "text": [
      "782/782 [==============================] - 1s 1ms/step - loss: 0.7464 - accuracy: 0.8543\n"
     ]
    }
   ],
   "source": [
    "# evaluating the performance of the model on predicting unknown data.\n",
    "# we use the test set to check the performance using the accuracy metric.\n",
    "results = model.evaluate(x_test, y_test)"
   ]
  },
  {
   "cell_type": "markdown",
   "metadata": {},
   "source": [
    "As we can see the model has an accuracy of 85%, this means that it's able to predict correctly the 85% of the reviews."
   ]
  },
  {
   "cell_type": "code",
   "execution_count": null,
   "metadata": {},
   "outputs": [],
   "source": []
  }
 ],
 "metadata": {
  "kernelspec": {
   "display_name": "Python 3",
   "language": "python",
   "name": "python3"
  },
  "language_info": {
   "codemirror_mode": {
    "name": "ipython",
    "version": 3
   },
   "file_extension": ".py",
   "mimetype": "text/x-python",
   "name": "python",
   "nbconvert_exporter": "python",
   "pygments_lexer": "ipython3",
   "version": "3.8.2"
  }
 },
 "nbformat": 4,
 "nbformat_minor": 4
}
